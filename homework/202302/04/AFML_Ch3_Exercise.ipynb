{
 "cells": [
  {
   "cell_type": "code",
   "execution_count": 1,
   "id": "f02eedc4",
   "metadata": {},
   "outputs": [],
   "source": [
    "import numpy as np\n",
    "import pandas as pd\n",
    "import matplotlib.pyplot as plt\n",
    "from datetime import datetime"
   ]
  },
  {
   "cell_type": "code",
   "execution_count": null,
   "id": "3089f765",
   "metadata": {},
   "outputs": [],
   "source": []
  },
  {
   "cell_type": "code",
   "execution_count": 96,
   "id": "1f48dd4b",
   "metadata": {},
   "outputs": [],
   "source": [
    "# 获取events\n",
    "\n",
    "# Triple-Barrier Labeling Method [3.2]\n",
    "def applyPtSlOnT1(close, events, ptSl, molecule=None):\n",
    "    # apply stop loss/profit taking, if it takes place before t1 (end of event)\n",
    "    if molecule is not None:\n",
    "        events_ = events.loc[molecule]\n",
    "    else:\n",
    "        events_ = events\n",
    "    out = events_[['t1']].copy(deep=True)\n",
    "    \n",
    "    if ptSl[0] > 0: \n",
    "        pt = ptSl[0] * events_['trgt']\n",
    "    else: \n",
    "        pt = pd.Series(index=events.index) # NaNs\n",
    "        \n",
    "    if ptSl[1] > 0: \n",
    "        sl = -ptSl[1] * events_['trgt']\n",
    "    else: \n",
    "        sl = pd.Series(index=events.index) # NaNs\n",
    "        \n",
    "    for loc, t1 in events_['t1'].fillna(close.index[-1]).iteritems():\n",
    "        df0 = close[loc:t1] # path prices\n",
    "        df0 = (df0 / close[loc] - 1) * events_.at[loc,'side'] # path returns\n",
    "        out.loc[loc,'sl'] = df0[df0 < sl[loc]].index.min() # earliest stop loss\n",
    "        out.loc[loc,'pt'] = df0[df0 > pt[loc]].index.min() # earliest profit taking\n",
    "    return out\n",
    "\n",
    "# =======================================================\n",
    "# Gettting Time of First Touch (getEvents) [3.3]\n",
    "def getEvents(close, tEvents, ptSl, trgt, minRet, numThreads=1, t1=False, side=None):\n",
    "    #1) get target\n",
    "    trgt=trgt.loc[tEvents]\n",
    "    trgt=trgt[trgt > minRet] # minRet\n",
    "    print(\"len of target: {}\".format(len(trgt)))\n",
    "    \n",
    "    #2) get t1 (max holding period)\n",
    "    if t1 is False:\n",
    "        t1 = pd.Series(pd.NaT, index=tEvents)\n",
    "        \n",
    "    #3) form events object, apply stop loss on t1\n",
    "    if side is None:\n",
    "        side_, ptSl_ = pd.Series(1.,index=trgt.index), [ptSl[0],ptSl[0]]\n",
    "    else: \n",
    "        side_, ptSl_ = side.loc[trgt.index],ptSl[:2]\n",
    "        \n",
    "    events=(\n",
    "        pd.concat({'t1':t1,'trgt':trgt,'side':side_}, axis=1).dropna(subset=['trgt'])\n",
    "    )\n",
    "    print(\"len of events: {}\".format(len(events)))\n",
    "    \n",
    "    df0 = applyPtSlOnT1(close, events, ptSl_)\n",
    "    #     df0=mpPandasObj(func=applyPtSlOnT1,pdObj=('molecule',events.index),\n",
    "    #                     numThreads=numThreads,close=close,events=events,\n",
    "    #                     ptSl=ptSl_)\n",
    "    events['t1'] = df0.dropna(how='all').min(axis=1) #pd.min ignores nan\n",
    "    if side is None: events=events.drop('side',axis=1)\n",
    "    return events\n",
    "\n",
    "# Adding Vertical Barrier [3.4]\n",
    "def addVerticalBarrier(tEvents, close, numDays=1):\n",
    "    t1 = close.index.searchsorted(tEvents+pd.Timedelta(days=numDays))\n",
    "    t1 = t1[t1<close.shape[0]]\n",
    "    t1 = (pd.Series(close.index[t1],index=tEvents[:t1.shape[0]]))\n",
    "    return t1\n",
    "\n",
    "# meta-labeling\n",
    "def getBins(events, close):\n",
    "    # 1) prices aligned with events\n",
    "    events_ = events.dropna(subset=['t1'])\n",
    "    px = events_.index.union(events_['t1'].values).drop_duplicates()\n",
    "    px = close.reindex(px, method='bfill')\n",
    "    \n",
    "    # 2) Create out object\n",
    "    out = pd.DataFrame(index=events_.index)\n",
    "    out['ret'] = px.loc[events_['t1'].values].values / px.loc[events_.index] - 1\n",
    "    \n",
    "    if 'side' in events_:\n",
    "        out['ret'] *= events_['side'] # meta-labeling\n",
    "    out['bin'] = np.sign(out['ret'])\n",
    "    if 'side' in events_:\n",
    "        out.loc[out['ret'] <= 0, 'bin'] = 0 # meta-labeling\n",
    "    return out\n",
    "            \n"
   ]
  },
  {
   "cell_type": "markdown",
   "id": "0c23f524",
   "metadata": {},
   "source": [
    "### Exercise 3.1\n",
    "\n",
    "Form dollar bars for E-mini S&P 500 futures:\n",
    "- (a) Apply a symmetric CUSUM filter (2.5.2.1) where the threshold is the standard deviation of daily returns\n",
    "- (b) Use \"Snippet 3.4 Adding a vertical barrier\" on a pandas series `t1`, where `numDays=1`\n",
    "- (c) On those sampled features, apply the triple-barrier method, where `ptSl=[1,1]` and `t1` is the seres you created in point 1.b\n",
    "- (d) Apply `getBins` to generate the labels."
   ]
  },
  {
   "cell_type": "code",
   "execution_count": 143,
   "id": "7f005666",
   "metadata": {},
   "outputs": [
    {
     "name": "stdout",
     "output_type": "stream",
     "text": [
      "[*********************100%***********************]  1 of 1 completed\n",
      "[*********************100%***********************]  1 of 1 completed\n"
     ]
    }
   ],
   "source": [
    "import yfinance as yf\n",
    "start_date = \"2023-01-21\"\n",
    "end_date = \"2023-01-28\"\n",
    "sp500 = yf.download(\"ES=F\", start=start_date, end=end_date, interval='1m')\n",
    "daily_std = yf.download(\"ES=F\", start=start_date, end=end_date)['Adj Close'].diff().std()"
   ]
  },
  {
   "cell_type": "code",
   "execution_count": null,
   "id": "4b91a932",
   "metadata": {},
   "outputs": [],
   "source": []
  },
  {
   "cell_type": "code",
   "execution_count": 144,
   "id": "76b017a5",
   "metadata": {},
   "outputs": [],
   "source": [
    "dollar_of_bar = 1e6\n",
    "\n",
    "bar_start = 0\n",
    "dollar_sum_cur = 0\n",
    "dollar_bar_price = []\n",
    "T = []\n",
    "for i in range(len(sp500)):\n",
    "    if dollar_sum_cur >= dollar_of_bar:\n",
    "        dollar_bar_price.append(\n",
    "            (sp500['Close'].iloc[bar_start:i].astype(int) * sp500['Volume'].iloc[bar_start:i].astype(int)).sum() / \n",
    "            sp500['Volume'].iloc[bar_start:i].astype(int).sum()\n",
    "        )\n",
    "        T.append(sp500.index[i])#.to_pydatetime())\n",
    "        dollar_sum_cur = 0\n",
    "    else:\n",
    "        dollar_sum_cur += sp500['Volume'].iloc[i] * sp500['Volume'].iloc[i]\n"
   ]
  },
  {
   "cell_type": "code",
   "execution_count": 145,
   "id": "04d0af30",
   "metadata": {},
   "outputs": [
    {
     "data": {
      "image/png": "[encoded data removed]",
      "text/plain": [
       "<Figure size 640x480 with 1 Axes>"
      ]
     },
     "metadata": {},
     "output_type": "display_data"
    }
   ],
   "source": [
    "def draw_dollar_bar(dollar_bar, T):\n",
    "    plt.xticks(rotation=90)\n",
    "    plt.plot(T, dollar_bar)\n",
    "    plt.ylabel(\"Average Price\")\n",
    "    plt.xlabel(\"Time\");\n",
    "draw_dollar_bar(dollar_bar_price, T)"
   ]
  },
  {
   "cell_type": "code",
   "execution_count": 146,
   "id": "d9af2704",
   "metadata": {},
   "outputs": [],
   "source": [
    "dollar_bar = pd.Series(\n",
    "    dollar_bar_price, index= T, name=\"Price\")"
   ]
  },
  {
   "cell_type": "code",
   "execution_count": 147,
   "id": "76b379d1",
   "metadata": {},
   "outputs": [],
   "source": [
    "def getTEvents(gRaw, h):\n",
    "    tEvents, sPos, sNeg = [], 0, 0\n",
    "    diff = gRaw.diff()\n",
    "    for i in diff.index[1:]:\n",
    "        sPos = max(0, float(sPos + diff.loc[i]))\n",
    "        sNeg = min(0, float(sNeg + diff.loc[i]))\n",
    "        if sNeg < -h:\n",
    "            sNeg = 0\n",
    "            tEvents.append(i)\n",
    "        elif sPos > h:\n",
    "            sPos = 0\n",
    "            tEvents.append(i)\n",
    "    return pd.DatetimeIndex(tEvents)"
   ]
  },
  {
   "cell_type": "code",
   "execution_count": 148,
   "id": "395963d6",
   "metadata": {
    "scrolled": true
   },
   "outputs": [
    {
     "name": "stdout",
     "output_type": "stream",
     "text": [
      "tEvents length: 34\n"
     ]
    }
   ],
   "source": [
    "tEvents = getTEvents(dollar_bar, 2.)\n",
    "print(\"tEvents length: {}\".format(len(tEvents)))"
   ]
  },
  {
   "cell_type": "code",
   "execution_count": null,
   "id": "71baed02",
   "metadata": {},
   "outputs": [],
   "source": []
  },
  {
   "cell_type": "markdown",
   "id": "065cfd93",
   "metadata": {},
   "source": [
    "### Add Vertical Barrier t1"
   ]
  },
  {
   "cell_type": "code",
   "execution_count": 149,
   "id": "ebe209e6",
   "metadata": {},
   "outputs": [
    {
     "name": "stdout",
     "output_type": "stream",
     "text": [
      "add vertical barrier: t1 length: 28\n"
     ]
    }
   ],
   "source": [
    "close = dollar_bar\n",
    "t1 = addVerticalBarrier(tEvents, close, numDays=1)\n",
    "print(\"add vertical barrier: t1 length: {}\".format(len(t1)))\n",
    "# NaT means no vertical boundary"
   ]
  },
  {
   "cell_type": "code",
   "execution_count": null,
   "id": "87f853c6",
   "metadata": {},
   "outputs": [],
   "source": []
  },
  {
   "cell_type": "code",
   "execution_count": 150,
   "id": "ea8ff6fc",
   "metadata": {},
   "outputs": [
    {
     "name": "stdout",
     "output_type": "stream",
     "text": [
      "len of target: 34\n",
      "len of events: 34\n"
     ]
    }
   ],
   "source": [
    "trgt = pd.Series(np.ones(len(tEvents))*0.5, name='trgt', index=tEvents)\n",
    "events = getEvents(close=close, tEvents=tEvents, ptSl=[1,1], trgt=trgt, minRet=.05, numThreads=2, t1=t1)"
   ]
  },
  {
   "cell_type": "code",
   "execution_count": 151,
   "id": "52dbffc0",
   "metadata": {},
   "outputs": [],
   "source": [
    "labeled = getBins(events, close)"
   ]
  },
  {
   "cell_type": "code",
   "execution_count": 152,
   "id": "290cc464",
   "metadata": {},
   "outputs": [
    {
     "data": {
      "text/html": [
       "<div>\n",
       "<style scoped>\n",
       "    .dataframe tbody tr th:only-of-type {\n",
       "        vertical-align: middle;\n",
       "    }\n",
       "\n",
       "    .dataframe tbody tr th {\n",
       "        vertical-align: top;\n",
       "    }\n",
       "\n",
       "    .dataframe thead th {\n",
       "        text-align: right;\n",
       "    }\n",
       "</style>\n",
       "<table border=\"1\" class=\"dataframe\">\n",
       "  <thead>\n",
       "    <tr style=\"text-align: right;\">\n",
       "      <th></th>\n",
       "      <th>ret</th>\n",
       "      <th>bin</th>\n",
       "    </tr>\n",
       "  </thead>\n",
       "  <tbody>\n",
       "    <tr>\n",
       "      <th>2023-01-23 03:09:00</th>\n",
       "      <td>0.009855</td>\n",
       "      <td>1.0</td>\n",
       "    </tr>\n",
       "    <tr>\n",
       "      <th>2023-01-23 08:37:00</th>\n",
       "      <td>0.009383</td>\n",
       "      <td>1.0</td>\n",
       "    </tr>\n",
       "    <tr>\n",
       "      <th>2023-01-23 09:44:00</th>\n",
       "      <td>0.008647</td>\n",
       "      <td>1.0</td>\n",
       "    </tr>\n",
       "    <tr>\n",
       "      <th>2023-01-23 09:52:00</th>\n",
       "      <td>0.008107</td>\n",
       "      <td>1.0</td>\n",
       "    </tr>\n",
       "    <tr>\n",
       "      <th>2023-01-23 10:02:00</th>\n",
       "      <td>0.007364</td>\n",
       "      <td>1.0</td>\n",
       "    </tr>\n",
       "    <tr>\n",
       "      <th>2023-01-23 10:14:00</th>\n",
       "      <td>0.006590</td>\n",
       "      <td>1.0</td>\n",
       "    </tr>\n",
       "    <tr>\n",
       "      <th>2023-01-23 10:26:00</th>\n",
       "      <td>0.006051</td>\n",
       "      <td>1.0</td>\n",
       "    </tr>\n",
       "    <tr>\n",
       "      <th>2023-01-23 10:42:00</th>\n",
       "      <td>0.005465</td>\n",
       "      <td>1.0</td>\n",
       "    </tr>\n",
       "    <tr>\n",
       "      <th>2023-01-23 10:58:00</th>\n",
       "      <td>0.004969</td>\n",
       "      <td>1.0</td>\n",
       "    </tr>\n",
       "    <tr>\n",
       "      <th>2023-01-23 11:06:00</th>\n",
       "      <td>0.004311</td>\n",
       "      <td>1.0</td>\n",
       "    </tr>\n",
       "    <tr>\n",
       "      <th>2023-01-23 11:12:00</th>\n",
       "      <td>0.003775</td>\n",
       "      <td>1.0</td>\n",
       "    </tr>\n",
       "    <tr>\n",
       "      <th>2023-01-23 11:22:00</th>\n",
       "      <td>0.003132</td>\n",
       "      <td>1.0</td>\n",
       "    </tr>\n",
       "    <tr>\n",
       "      <th>2023-01-23 11:38:00</th>\n",
       "      <td>0.002634</td>\n",
       "      <td>1.0</td>\n",
       "    </tr>\n",
       "    <tr>\n",
       "      <th>2023-01-23 12:08:00</th>\n",
       "      <td>0.002141</td>\n",
       "      <td>1.0</td>\n",
       "    </tr>\n",
       "    <tr>\n",
       "      <th>2023-01-23 12:52:00</th>\n",
       "      <td>0.001674</td>\n",
       "      <td>1.0</td>\n",
       "    </tr>\n",
       "    <tr>\n",
       "      <th>2023-01-23 13:31:00</th>\n",
       "      <td>0.001207</td>\n",
       "      <td>1.0</td>\n",
       "    </tr>\n",
       "    <tr>\n",
       "      <th>2023-01-23 14:02:00</th>\n",
       "      <td>0.000751</td>\n",
       "      <td>1.0</td>\n",
       "    </tr>\n",
       "    <tr>\n",
       "      <th>2023-01-23 15:53:00</th>\n",
       "      <td>0.000382</td>\n",
       "      <td>1.0</td>\n",
       "    </tr>\n",
       "    <tr>\n",
       "      <th>2023-01-24 16:01:00</th>\n",
       "      <td>-0.002211</td>\n",
       "      <td>-1.0</td>\n",
       "    </tr>\n",
       "    <tr>\n",
       "      <th>2023-01-25 09:35:00</th>\n",
       "      <td>-0.001308</td>\n",
       "      <td>-1.0</td>\n",
       "    </tr>\n",
       "    <tr>\n",
       "      <th>2023-01-25 10:01:00</th>\n",
       "      <td>-0.000565</td>\n",
       "      <td>-1.0</td>\n",
       "    </tr>\n",
       "    <tr>\n",
       "      <th>2023-01-25 10:31:00</th>\n",
       "      <td>0.000158</td>\n",
       "      <td>1.0</td>\n",
       "    </tr>\n",
       "    <tr>\n",
       "      <th>2023-01-25 11:03:00</th>\n",
       "      <td>0.000795</td>\n",
       "      <td>1.0</td>\n",
       "    </tr>\n",
       "    <tr>\n",
       "      <th>2023-01-25 12:51:00</th>\n",
       "      <td>0.001575</td>\n",
       "      <td>1.0</td>\n",
       "    </tr>\n",
       "    <tr>\n",
       "      <th>2023-01-26 08:32:00</th>\n",
       "      <td>0.002162</td>\n",
       "      <td>1.0</td>\n",
       "    </tr>\n",
       "    <tr>\n",
       "      <th>2023-01-26 10:04:00</th>\n",
       "      <td>0.002024</td>\n",
       "      <td>1.0</td>\n",
       "    </tr>\n",
       "    <tr>\n",
       "      <th>2023-01-26 12:12:00</th>\n",
       "      <td>0.002349</td>\n",
       "      <td>1.0</td>\n",
       "    </tr>\n",
       "    <tr>\n",
       "      <th>2023-01-26 15:15:00</th>\n",
       "      <td>0.002768</td>\n",
       "      <td>1.0</td>\n",
       "    </tr>\n",
       "  </tbody>\n",
       "</table>\n",
       "</div>"
      ],
      "text/plain": [
       "                          ret  bin\n",
       "2023-01-23 03:09:00  0.009855  1.0\n",
       "2023-01-23 08:37:00  0.009383  1.0\n",
       "2023-01-23 09:44:00  0.008647  1.0\n",
       "2023-01-23 09:52:00  0.008107  1.0\n",
       "2023-01-23 10:02:00  0.007364  1.0\n",
       "2023-01-23 10:14:00  0.006590  1.0\n",
       "2023-01-23 10:26:00  0.006051  1.0\n",
       "2023-01-23 10:42:00  0.005465  1.0\n",
       "2023-01-23 10:58:00  0.004969  1.0\n",
       "2023-01-23 11:06:00  0.004311  1.0\n",
       "2023-01-23 11:12:00  0.003775  1.0\n",
       "2023-01-23 11:22:00  0.003132  1.0\n",
       "2023-01-23 11:38:00  0.002634  1.0\n",
       "2023-01-23 12:08:00  0.002141  1.0\n",
       "2023-01-23 12:52:00  0.001674  1.0\n",
       "2023-01-23 13:31:00  0.001207  1.0\n",
       "2023-01-23 14:02:00  0.000751  1.0\n",
       "2023-01-23 15:53:00  0.000382  1.0\n",
       "2023-01-24 16:01:00 -0.002211 -1.0\n",
       "2023-01-25 09:35:00 -0.001308 -1.0\n",
       "2023-01-25 10:01:00 -0.000565 -1.0\n",
       "2023-01-25 10:31:00  0.000158  1.0\n",
       "2023-01-25 11:03:00  0.000795  1.0\n",
       "2023-01-25 12:51:00  0.001575  1.0\n",
       "2023-01-26 08:32:00  0.002162  1.0\n",
       "2023-01-26 10:04:00  0.002024  1.0\n",
       "2023-01-26 12:12:00  0.002349  1.0\n",
       "2023-01-26 15:15:00  0.002768  1.0"
      ]
     },
     "execution_count": 152,
     "metadata": {},
     "output_type": "execute_result"
    }
   ],
   "source": [
    "labeled"
   ]
  },
  {
   "cell_type": "code",
   "execution_count": null,
   "id": "a29734f0",
   "metadata": {},
   "outputs": [],
   "source": []
  },
  {
   "cell_type": "code",
   "execution_count": null,
   "id": "826596fa",
   "metadata": {},
   "outputs": [],
   "source": []
  },
  {
   "cell_type": "code",
   "execution_count": null,
   "id": "162b2755",
   "metadata": {},
   "outputs": [],
   "source": []
  },
  {
   "cell_type": "code",
   "execution_count": null,
   "id": "7f62a65c",
   "metadata": {},
   "outputs": [],
   "source": []
  }
 ],
 "metadata": {
  "kernelspec": {
   "display_name": "Python 3 (ipykernel)",
   "language": "python",
   "name": "python3"
  },
  "language_info": {
   "codemirror_mode": {
    "name": "ipython",
    "version": 3
   },
   "file_extension": ".py",
   "mimetype": "text/x-python",
   "name": "python",
   "nbconvert_exporter": "python",
   "pygments_lexer": "ipython3",
   "version": "3.9.13"
  }
 },
 "nbformat": 4,
 "nbformat_minor": 5
}
