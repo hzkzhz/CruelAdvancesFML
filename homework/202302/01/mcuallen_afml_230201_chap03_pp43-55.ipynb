{
 "cells": [
  {
   "cell_type": "markdown",
   "source": [
    "# chap 03\n",
    "## 3.8 THE QUANTAMENTAL WAY\n",
    "You may have read in the press that many hedge funds are embracing the quantamental approach.\n",
    "\n",
    "You can always add a meta-labeling layer to any primary model, whether that is an\n",
    "ML algorithm, an econometric equation, a technical trading rule, a fundamental analysis, etc.\n",
    "不论是机器学习算法, 经济指数公式, 还是技术交易规则, 基础分析,你总可以添加一个元标签层"
   ],
   "metadata": {
    "collapsed": false,
    "pycharm": {
     "name": "#%% md\n"
    }
   }
  },
  {
   "cell_type": "markdown",
   "source": [],
   "metadata": {
    "collapsed": false,
    "pycharm": {
     "name": "#%% md\n"
    }
   }
  },
  {
   "cell_type": "markdown",
   "source": [],
   "metadata": {
    "collapsed": false,
    "pycharm": {
     "name": "#%% md\n"
    }
   }
  },
  {
   "cell_type": "code",
   "execution_count": null,
   "outputs": [],
   "source": [],
   "metadata": {
    "collapsed": false,
    "pycharm": {
     "name": "#%%\n"
    }
   }
  }
 ],
 "metadata": {
  "kernelspec": {
   "display_name": "Python 3",
   "language": "python",
   "name": "python3"
  },
  "language_info": {
   "codemirror_mode": {
    "name": "ipython",
    "version": 2
   },
   "file_extension": ".py",
   "mimetype": "text/x-python",
   "name": "python",
   "nbconvert_exporter": "python",
   "pygments_lexer": "ipython2",
   "version": "2.7.6"
  }
 },
 "nbformat": 4,
 "nbformat_minor": 0
}