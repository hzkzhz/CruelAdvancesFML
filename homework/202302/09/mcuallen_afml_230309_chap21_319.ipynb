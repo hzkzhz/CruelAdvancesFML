{
 "cells": [
  {
   "cell_type": "markdown",
   "source": [
    "[toc]\n",
    "# vocab\n",
    "Without loss of generality,\n",
    "不失一般性地说，\n",
    "\n",
    "暴搜与量子计算机\n",
    "# atom vs molecule\n",
    "Discrete mathematics appears naturally in multiple ML problems, including hierarchical clustering, grid searches, decisions based on thresholds, and integer optimization.\n",
    "离散数学在多个ML问题中自然出现，包括层次聚类，网格搜索，基于阈值的决策和整数优化。\n",
    "Sometimes, these problems do not have a known analytical (closed-form) solution, or even a heuristic to approximate it, and our only hope is to search for it through brute force.\n",
    "有时，这些问题没有已知的分析（闭式）解决方案，甚至没有启发式方法来近似它，我们唯一的希望是通过暴力搜索来寻找它。\n",
    "\n",
    "## chap14\n",
    "The Sharpe ratio (SR) is defined as:\n",
    "夏普比率（SR）定义为：\n",
    "$$SR=\\frac{\\mu}{\\sigma}$$\n",
    "\n",
    "The probabilistic Sharpe ratio (PSR) provides an adjusted estimate of SR, by removing the inflationary effect caused by short series with skewed and/or fat-tailed returns\n",
    "$$\\widehat{P S R}\\left[S R^{*}\\right]=Z\\left[\\frac{\\left(\\widehat{S R}-S R^{*}\\right) \\sqrt{T-1}}{\\sqrt{1-\\hat{\\gamma}_{3} \\widehat{S R}+\\frac{\\hat{\\gamma}_{4}-1}{4} \\widehat{S R}^{2}}}\\right]$$"
   ],
   "metadata": {
    "collapsed": false
   }
  },
  {
   "cell_type": "code",
   "execution_count": null,
   "outputs": [],
   "source": [
    "a = [1,2,3]"
   ],
   "metadata": {
    "collapsed": false
   }
  }
 ],
 "metadata": {
  "kernelspec": {
   "display_name": "Python 3",
   "language": "python",
   "name": "python3"
  },
  "language_info": {
   "codemirror_mode": {
    "name": "ipython",
    "version": 2
   },
   "file_extension": ".py",
   "mimetype": "text/x-python",
   "name": "python",
   "nbconvert_exporter": "python",
   "pygments_lexer": "ipython2",
   "version": "2.7.6"
  }
 },
 "nbformat": 4,
 "nbformat_minor": 0
}
