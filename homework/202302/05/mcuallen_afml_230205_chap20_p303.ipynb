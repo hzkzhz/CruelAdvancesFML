{
 "cells": [
  {
   "cell_type": "markdown",
   "source": [
    "\n",
    "先跳过实验密集章节 (...\n",
    "\n",
    "\n",
    "# chap 20\n",
    "Multiprocessing is essential to ML\n",
    "机器学习算法是计算密集性的"
   ],
   "metadata": {
    "collapsed": false
   }
  },
  {
   "cell_type": "markdown",
   "source": [
    "未向量化的笛卡尔乘"
   ],
   "metadata": {
    "collapsed": false
   }
  },
  {
   "cell_type": "code",
   "execution_count": null,
   "outputs": [],
   "source": [
    "dict0={'a':['1','2'],'b':['+','*'],'c':['!','@']}\n",
    "for a in dict0['a']:\n",
    "    for b in dict0['b']:\n",
    "        for c in dict0['c']:\n",
    "            print({'a':a,'b':b,'c':c})"
   ],
   "metadata": {
    "collapsed": false
   }
  },
  {
   "cell_type": "markdown",
   "source": [
    "向量化的笛卡尔乘\n",
    "py 2.x 中的itertools.izip, 在3.x中是zip\n",
    "1. for... loop 被更快的迭代器替换\n",
    "2. 在扩更多维度是不用改代码\n",
    "3. 底层利用到c/c++的优化"
   ],
   "metadata": {
    "collapsed": false
   }
  },
  {
   "cell_type": "code",
   "execution_count": null,
   "outputs": [],
   "source": [
    "from itertools import product\n",
    "dict0={'a':['1','2'],'b':['+','*'],'c':['!','@']}\n",
    "jobs=(dict(zip(dict0,i)) for i in product(*dict0.values()))\n",
    "for i in jobs:\n",
    "    print(i)"
   ],
   "metadata": {
    "collapsed": false
   }
  }
 ],
 "metadata": {
  "kernelspec": {
   "display_name": "Python 3",
   "language": "python",
   "name": "python3"
  },
  "language_info": {
   "codemirror_mode": {
    "name": "ipython",
    "version": 2
   },
   "file_extension": ".py",
   "mimetype": "text/x-python",
   "name": "python",
   "nbconvert_exporter": "python",
   "pygments_lexer": "ipython2",
   "version": "2.7.6"
  }
 },
 "nbformat": 4,
 "nbformat_minor": 0
}
