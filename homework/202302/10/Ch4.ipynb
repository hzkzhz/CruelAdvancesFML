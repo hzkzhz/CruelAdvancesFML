{
 "cells": [
  {
   "cell_type": "code",
   "execution_count": 1,
   "id": "88877f72",
   "metadata": {},
   "outputs": [],
   "source": [
    "import numpy as np\n",
    "import pandas as pd"
   ]
  },
  {
   "cell_type": "code",
   "execution_count": 6,
   "id": "8c3178e9",
   "metadata": {},
   "outputs": [],
   "source": [
    "def mpNumCoEvents(closeIdx, t1, module):\n",
    "    \"\"\"\n",
    "    Compute the number of concurrent events per bar.\n",
    "    +molecule[0] is the date of the first event on which the weight will be computed\n",
    "    +molecule[1] is the date of the last event on which the weight will be computed\n",
    "    Any event that starts before t1[molecule].max() impacts the count.\n",
    "    \"\"\"\n",
    "    \n",
    "    # 1) find events that span the period [molecule[0], molecule[-1]]\n",
    "    t1 = t1.fillna(closeIdx[-1]) # unclosed events still must impact other weights\n",
    "    t1 = t1[t1 >= molecule[0]] # events that end at or after molecule[0]\n",
    "    t1 = t1.loc[:t1[molecule].max()] # events that start at or before t1[molecule].max()\n",
    "    \n",
    "    # 2) count events spanning a bar\n",
    "    iloc = closeIdx.searchsorted(np.array([t1.index[0], t1.max()]))\n",
    "    count = pd.Series(0, index=closeIdx[iloc[0]:iloc[1]+1])\n",
    "    for tIn, tOut in t1.iteritems():\n",
    "        count.loc[tIn:tOut] += 1\n",
    "    return count.loc[molecule[0]: t1[molecule.max()]]\n",
    "\n",
    "def mpSampleTW(t1, numCoEvents, molecule):\n",
    "    \"\"\"\n",
    "    Estimate the average uniqueness of a label\n",
    "    \"\"\"\n",
    "    weight = pd.Series(index=molecule)\n",
    "    for tIn, tOut in t1.loc[weight.index].iteritems():\n",
    "        weight.loc[tIn] = (1. / numCoEvents.loc[tIn: tOut]).mean()\n",
    "    return weight\n",
    "\n",
    "# numCoEvents = mpPandasObj(mpNumCoEvents, ('molecule', events.index), numThreads, closeIdx=close.index, t1=events['t1'])\n",
    "# numCoEvents = numCoEvents.loc[~numCoEvents.index.duplicated(keep='last')]\n",
    "# numCoEvents = numCoEvents.reindex(close.index).fillna(0)\n",
    "# out['tW'] = mpPandasObj(mpSampleTW, ('molecule', events.index), numThreads, t1=events['t1'], numCoEvents=numCoEvents)\n"
   ]
  },
  {
   "cell_type": "code",
   "execution_count": 7,
   "id": "b8dcb83d",
   "metadata": {},
   "outputs": [],
   "source": [
    "# 4.3 Build and indicator matrix\n",
    "import pandas as pd\n",
    "import numpy as np\n",
    "\n",
    "def getIndMatrix(barIx, t1):\n",
    "    # Get indicator matrix\n",
    "    indM = pd.DataFrame(0, index=barIx, columns=range(t1.shape[0]))\n",
    "    for i, (t0, t1) in enumerate(t1.iteritems()):\n",
    "        indM.loc[t0:t1, i] = 1\n",
    "    return indM\n",
    "\n",
    "# 4.4 Compute average uniqueness\n",
    "\n",
    "def getAvgUniqueness(indM):\n",
    "    # Average uniqueness from indicator matrix\n",
    "    c = indM.sum(axis=1) # concurrency\n",
    "    u = indM.div(c, axis=0) # uniqueness\n",
    "    avgU = u[u > 0].mean() # average uniqueness\n",
    "    return avgU\n",
    "\n",
    "def seqBootstrap(indM, sLength=None):\n",
    "    # Generate a sample via sequential bootstrap\n",
    "    if sLength is None:\n",
    "        sLength = indM.shape[1]\n",
    "    phi = []\n",
    "    while len(phi) < sLength:\n",
    "        avgU = pd.Series()\n",
    "        for i in indM:\n",
    "            indM_ = indM[phi+[i]] # reduce indM\n",
    "            avgU.loc[i] = getAvgUniqueness(indM_).iloc[-1]\n",
    "        prob = avgU / avgU.sum() # draw prob\n",
    "        phi += [np.random.choice(indM.columns, p=prob)]\n",
    "    return phi\n",
    "\n",
    "# 4.6 Example of sequential bootstrap\n",
    "def main():\n",
    "    t1 = pd.Series([2, 3, 5], index=[0, 2, 4]) # t0, t1 for each feature obs\n",
    "    barIx = range(t1.max() + 1) # index of bars\n",
    "    indM = getIndMatrix(barIx, t1)\n",
    "    phi = np.random.choice(indM.columns, size=indM.shape[1])\n",
    "    print(phi)\n",
    "    print(\"Standard Uniqueness:\", getAvgUniqueness(indM[phi]).mean())\n",
    "    phi = seqBootstrap(indM)\n",
    "    print(phi)\n",
    "    print(\"Sequential Uniqueness\", getAvgUniqueness(indM[phi]).mean())\n",
    "    return"
   ]
  },
  {
   "cell_type": "code",
   "execution_count": 11,
   "id": "e8483160",
   "metadata": {},
   "outputs": [
    {
     "name": "stdout",
     "output_type": "stream",
     "text": [
      "[0 0 2]\n",
      "Standard Uniqueness: 0.6666666666666666\n",
      "[1, 0, 1]\n",
      "Sequential Uniqueness 0.5370370370370371\n"
     ]
    },
    {
     "name": "stderr",
     "output_type": "stream",
     "text": [
      "/var/folders/rw/6x9lkwk14fx95hjhh0wxmb100000gn/T/ipykernel_28789/3499614485.py:27: FutureWarning: The default dtype for empty Series will be 'object' instead of 'float64' in a future version. Specify a dtype explicitly to silence this warning.\n",
      "  avgU = pd.Series()\n",
      "/var/folders/rw/6x9lkwk14fx95hjhh0wxmb100000gn/T/ipykernel_28789/3499614485.py:27: FutureWarning: The default dtype for empty Series will be 'object' instead of 'float64' in a future version. Specify a dtype explicitly to silence this warning.\n",
      "  avgU = pd.Series()\n",
      "/var/folders/rw/6x9lkwk14fx95hjhh0wxmb100000gn/T/ipykernel_28789/3499614485.py:27: FutureWarning: The default dtype for empty Series will be 'object' instead of 'float64' in a future version. Specify a dtype explicitly to silence this warning.\n",
      "  avgU = pd.Series()\n"
     ]
    }
   ],
   "source": [
    "main()"
   ]
  },
  {
   "cell_type": "code",
   "execution_count": null,
   "id": "9618834d",
   "metadata": {},
   "outputs": [],
   "source": []
  }
 ],
 "metadata": {
  "kernelspec": {
   "display_name": "Python 3 (ipykernel)",
   "language": "python",
   "name": "python3"
  },
  "language_info": {
   "codemirror_mode": {
    "name": "ipython",
    "version": 3
   },
   "file_extension": ".py",
   "mimetype": "text/x-python",
   "name": "python",
   "nbconvert_exporter": "python",
   "pygments_lexer": "ipython3",
   "version": "3.9.13"
  }
 },
 "nbformat": 4,
 "nbformat_minor": 5
}
