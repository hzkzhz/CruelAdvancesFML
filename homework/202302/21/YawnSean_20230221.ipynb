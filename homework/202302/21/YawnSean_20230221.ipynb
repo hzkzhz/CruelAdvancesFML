{
 "cells": [
  {
   "attachments": {},
   "cell_type": "markdown",
   "metadata": {},
   "source": [
    "p.s. 感觉习题有点不知所云，跟着自己的理解跑了一遍。"
   ]
  },
  {
   "attachments": {},
   "cell_type": "markdown",
   "metadata": {},
   "source": [
    "### Import Necessary Packages"
   ]
  },
  {
   "cell_type": "code",
   "execution_count": 1,
   "metadata": {},
   "outputs": [],
   "source": [
    "import numpy as np\n",
    "import pandas as pd\n",
    "import warnings\n",
    "warnings.filterwarnings('ignore')"
   ]
  },
  {
   "attachments": {},
   "cell_type": "markdown",
   "metadata": {},
   "source": [
    "### Load Data"
   ]
  },
  {
   "cell_type": "code",
   "execution_count": 2,
   "metadata": {},
   "outputs": [
    {
     "data": {
      "text/html": [
       "<div>\n",
       "<style scoped>\n",
       "    .dataframe tbody tr th:only-of-type {\n",
       "        vertical-align: middle;\n",
       "    }\n",
       "\n",
       "    .dataframe tbody tr th {\n",
       "        vertical-align: top;\n",
       "    }\n",
       "\n",
       "    .dataframe thead th {\n",
       "        text-align: right;\n",
       "    }\n",
       "</style>\n",
       "<table border=\"1\" class=\"dataframe\">\n",
       "  <thead>\n",
       "    <tr style=\"text-align: right;\">\n",
       "      <th></th>\n",
       "      <th>Close/Last</th>\n",
       "      <th>Volume</th>\n",
       "      <th>Open</th>\n",
       "      <th>High</th>\n",
       "      <th>Low</th>\n",
       "    </tr>\n",
       "    <tr>\n",
       "      <th>Date</th>\n",
       "      <th></th>\n",
       "      <th></th>\n",
       "      <th></th>\n",
       "      <th></th>\n",
       "      <th></th>\n",
       "    </tr>\n",
       "  </thead>\n",
       "  <tbody>\n",
       "    <tr>\n",
       "      <th>2018-02-20</th>\n",
       "      <td>2714.00</td>\n",
       "      <td>1408201</td>\n",
       "      <td>2728.25</td>\n",
       "      <td>2747.75</td>\n",
       "      <td>2705.75</td>\n",
       "    </tr>\n",
       "    <tr>\n",
       "      <th>2018-02-21</th>\n",
       "      <td>2698.75</td>\n",
       "      <td>1573160</td>\n",
       "      <td>2714.50</td>\n",
       "      <td>2747.75</td>\n",
       "      <td>2693.50</td>\n",
       "    </tr>\n",
       "    <tr>\n",
       "      <th>2018-02-22</th>\n",
       "      <td>2711.50</td>\n",
       "      <td>1577667</td>\n",
       "      <td>2698.50</td>\n",
       "      <td>2731.00</td>\n",
       "      <td>2682.00</td>\n",
       "    </tr>\n",
       "    <tr>\n",
       "      <th>2018-02-23</th>\n",
       "      <td>2748.75</td>\n",
       "      <td>1203636</td>\n",
       "      <td>2712.75</td>\n",
       "      <td>2750.25</td>\n",
       "      <td>2710.00</td>\n",
       "    </tr>\n",
       "    <tr>\n",
       "      <th>2018-02-26</th>\n",
       "      <td>2784.50</td>\n",
       "      <td>1207718</td>\n",
       "      <td>2751.50</td>\n",
       "      <td>2786.00</td>\n",
       "      <td>2742.50</td>\n",
       "    </tr>\n",
       "    <tr>\n",
       "      <th>...</th>\n",
       "      <td>...</td>\n",
       "      <td>...</td>\n",
       "      <td>...</td>\n",
       "      <td>...</td>\n",
       "      <td>...</td>\n",
       "    </tr>\n",
       "    <tr>\n",
       "      <th>2023-02-13</th>\n",
       "      <td>4147.25</td>\n",
       "      <td>1320269</td>\n",
       "      <td>4105.00</td>\n",
       "      <td>4150.75</td>\n",
       "      <td>4078.75</td>\n",
       "    </tr>\n",
       "    <tr>\n",
       "      <th>2023-02-14</th>\n",
       "      <td>4145.50</td>\n",
       "      <td>2323441</td>\n",
       "      <td>4149.75</td>\n",
       "      <td>4186.50</td>\n",
       "      <td>4103.75</td>\n",
       "    </tr>\n",
       "    <tr>\n",
       "      <th>2023-02-15</th>\n",
       "      <td>4158.25</td>\n",
       "      <td>1567727</td>\n",
       "      <td>4141.25</td>\n",
       "      <td>4161.75</td>\n",
       "      <td>4113.00</td>\n",
       "    </tr>\n",
       "    <tr>\n",
       "      <th>2023-02-16</th>\n",
       "      <td>4099.75</td>\n",
       "      <td>1992560</td>\n",
       "      <td>4159.00</td>\n",
       "      <td>4168.50</td>\n",
       "      <td>4095.00</td>\n",
       "    </tr>\n",
       "    <tr>\n",
       "      <th>2023-02-17</th>\n",
       "      <td>4087.50</td>\n",
       "      <td>1941351</td>\n",
       "      <td>4095.50</td>\n",
       "      <td>4096.00</td>\n",
       "      <td>4055.75</td>\n",
       "    </tr>\n",
       "  </tbody>\n",
       "</table>\n",
       "<p>1259 rows × 5 columns</p>\n",
       "</div>"
      ],
      "text/plain": [
       "            Close/Last   Volume     Open     High      Low\n",
       "Date                                                      \n",
       "2018-02-20     2714.00  1408201  2728.25  2747.75  2705.75\n",
       "2018-02-21     2698.75  1573160  2714.50  2747.75  2693.50\n",
       "2018-02-22     2711.50  1577667  2698.50  2731.00  2682.00\n",
       "2018-02-23     2748.75  1203636  2712.75  2750.25  2710.00\n",
       "2018-02-26     2784.50  1207718  2751.50  2786.00  2742.50\n",
       "...                ...      ...      ...      ...      ...\n",
       "2023-02-13     4147.25  1320269  4105.00  4150.75  4078.75\n",
       "2023-02-14     4145.50  2323441  4149.75  4186.50  4103.75\n",
       "2023-02-15     4158.25  1567727  4141.25  4161.75  4113.00\n",
       "2023-02-16     4099.75  1992560  4159.00  4168.50  4095.00\n",
       "2023-02-17     4087.50  1941351  4095.50  4096.00  4055.75\n",
       "\n",
       "[1259 rows x 5 columns]"
      ]
     },
     "execution_count": 2,
     "metadata": {},
     "output_type": "execute_result"
    }
   ],
   "source": [
    "df = pd.read_csv('../../SP500_HistoricalData.csv')\n",
    "df['Date'] = pd.to_datetime(df['Date'], infer_datetime_format=True)\n",
    "df = df.set_index('Date').sort_index()\n",
    "df"
   ]
  },
  {
   "attachments": {},
   "cell_type": "markdown",
   "metadata": {},
   "source": [
    "## Exercise 3.1"
   ]
  },
  {
   "attachments": {},
   "cell_type": "markdown",
   "metadata": {},
   "source": [
    "### Pre-process Data and Construct Dollar Bars"
   ]
  },
  {
   "attachments": {},
   "cell_type": "markdown",
   "metadata": {},
   "source": [
    "#### Calculate Turnover (Using Close Price and Volumn to Estimate)"
   ]
  },
  {
   "cell_type": "code",
   "execution_count": 3,
   "metadata": {},
   "outputs": [
    {
     "data": {
      "text/plain": [
       "Date\n",
       "2018-02-20    3.821858e+09\n",
       "2018-02-21    4.245566e+09\n",
       "2018-02-22    4.277844e+09\n",
       "2018-02-23    3.308494e+09\n",
       "2018-02-26    3.362891e+09\n",
       "                  ...     \n",
       "2023-02-13    5.475486e+09\n",
       "2023-02-14    9.631825e+09\n",
       "2023-02-15    6.519001e+09\n",
       "2023-02-16    8.168998e+09\n",
       "2023-02-17    7.935272e+09\n",
       "Length: 1259, dtype: float64"
      ]
     },
     "execution_count": 3,
     "metadata": {},
     "output_type": "execute_result"
    }
   ],
   "source": [
    "turnover = df['Close/Last'] * df['Volume']\n",
    "turnover"
   ]
  },
  {
   "cell_type": "code",
   "execution_count": 4,
   "metadata": {},
   "outputs": [
    {
     "data": {
      "text/plain": [
       "Date\n",
       "2018-02-22    2711.50\n",
       "2018-02-27    2747.50\n",
       "2018-03-01    2678.25\n",
       "2018-03-05    2718.50\n",
       "2018-03-08    2739.25\n",
       "               ...   \n",
       "2023-02-07    4175.75\n",
       "2023-02-09    4091.75\n",
       "2023-02-13    4147.25\n",
       "2023-02-15    4158.25\n",
       "2023-02-17    4087.50\n",
       "Name: Close/Last, Length: 530, dtype: float64"
      ]
     },
     "execution_count": 4,
     "metadata": {},
     "output_type": "execute_result"
    }
   ],
   "source": [
    "def getBars(series, boundary=1e10):\n",
    "    chosen_index = []\n",
    "    acc = 0\n",
    "    for i in series.index:\n",
    "        acc += series[i]\n",
    "        if acc > boundary:\n",
    "            chosen_index.append(i)\n",
    "            acc = 0\n",
    "    return chosen_index\n",
    "\n",
    "close = df['Close/Last'][getBars(turnover)]\n",
    "close"
   ]
  },
  {
   "attachments": {},
   "cell_type": "markdown",
   "metadata": {},
   "source": [
    "### Define Functions"
   ]
  },
  {
   "cell_type": "code",
   "execution_count": 5,
   "metadata": {},
   "outputs": [],
   "source": [
    "def getTEvents(gRaw, thresholdSeries):\n",
    "    tEvents, sPos, sNeg = [], 0, 0\n",
    "    diff = gRaw.diff()\n",
    "    for i in diff.index[1:]:\n",
    "        h = thresholdSeries[i]\n",
    "        sPos, sNeg = max(0, sPos + diff.loc[i]), min(0, sNeg + diff.loc[i])\n",
    "        if sNeg < -h:\n",
    "            sNeg = 0\n",
    "            tEvents.append(i)\n",
    "        elif sPos > h:\n",
    "            sPos = 0\n",
    "            tEvents.append(i)\n",
    "    return pd.DatetimeIndex(tEvents)\n",
    "\n",
    "def getDailyVol(close, span0=100):\n",
    "    df0 = close.index.searchsorted(close.index - pd.Timedelta(days=1))\n",
    "    df0 = df0[df0>0]\n",
    "    df0 = pd.Series(close.index[df0-1], index=close.index[close.shape[0] - df0.shape[0]:])\n",
    "    df0 = close.loc[df0.index] / close.loc[df0.values].values - 1\n",
    "    df0 = df0.ewm(span=span0).std()\n",
    "    return df0"
   ]
  },
  {
   "attachments": {},
   "cell_type": "markdown",
   "metadata": {},
   "source": [
    "### Calculate Volatility"
   ]
  },
  {
   "cell_type": "code",
   "execution_count": 6,
   "metadata": {},
   "outputs": [
    {
     "data": {
      "text/plain": [
       "Date\n",
       "2018-02-27         NaN\n",
       "2018-03-01    0.027211\n",
       "2018-03-05    0.022751\n",
       "2018-03-08    0.018779\n",
       "2018-03-13    0.016577\n",
       "                ...   \n",
       "2023-02-07    0.020279\n",
       "2023-02-09    0.020287\n",
       "2023-02-13    0.020172\n",
       "2023-02-15    0.019973\n",
       "2023-02-17    0.019927\n",
       "Name: Close/Last, Length: 529, dtype: float64"
      ]
     },
     "execution_count": 6,
     "metadata": {},
     "output_type": "execute_result"
    }
   ],
   "source": [
    "vol = getDailyVol(close)\n",
    "vol"
   ]
  },
  {
   "attachments": {},
   "cell_type": "markdown",
   "metadata": {},
   "source": [
    "### Apply the Filter - 3.1(a)"
   ]
  },
  {
   "cell_type": "code",
   "execution_count": 7,
   "metadata": {},
   "outputs": [
    {
     "data": {
      "text/plain": [
       "2018-03-01    2678.25\n",
       "2018-03-05    2718.50\n",
       "2018-03-16    2756.00\n",
       "2018-03-23    2597.75\n",
       "2018-03-27    2615.75\n",
       "               ...   \n",
       "2023-02-01    4132.25\n",
       "2023-02-03    4147.75\n",
       "2023-02-09    4091.75\n",
       "2023-02-13    4147.25\n",
       "2023-02-17    4087.50\n",
       "Name: Close/Last, Length: 272, dtype: float64"
      ]
     },
     "execution_count": 7,
     "metadata": {},
     "output_type": "execute_result"
    }
   ],
   "source": [
    "returns = close.pct_change()\n",
    "tEvents = getTEvents(returns, vol)\n",
    "filtered_close = close[tEvents]\n",
    "filtered_close"
   ]
  },
  {
   "attachments": {},
   "cell_type": "markdown",
   "metadata": {},
   "source": [
    "### Use Snippet 3.4 - 3.1(b)"
   ]
  },
  {
   "cell_type": "code",
   "execution_count": 8,
   "metadata": {},
   "outputs": [
    {
     "data": {
      "text/plain": [
       "2018-03-01   2018-03-02\n",
       "2018-03-05   2018-03-06\n",
       "2018-03-16   2018-03-19\n",
       "2018-03-23   2018-03-26\n",
       "2018-03-27   2018-03-28\n",
       "                ...    \n",
       "2023-01-30   2023-01-31\n",
       "2023-02-01   2023-02-02\n",
       "2023-02-03   2023-02-06\n",
       "2023-02-09   2023-02-10\n",
       "2023-02-13   2023-02-14\n",
       "Name: Date, Length: 271, dtype: datetime64[ns]"
      ]
     },
     "execution_count": 8,
     "metadata": {},
     "output_type": "execute_result"
    }
   ],
   "source": [
    "t1 = df.index.searchsorted(tEvents + pd.Timedelta(days=1))\n",
    "t1 = t1[t1 < df.shape[0]]\n",
    "t1 = pd.Series(df.index[t1], index=tEvents[:t1.shape[0]])\n",
    "t1"
   ]
  },
  {
   "attachments": {},
   "cell_type": "markdown",
   "metadata": {},
   "source": [
    "### Construct Events"
   ]
  },
  {
   "cell_type": "code",
   "execution_count": 9,
   "metadata": {},
   "outputs": [
    {
     "data": {
      "text/html": [
       "<div>\n",
       "<style scoped>\n",
       "    .dataframe tbody tr th:only-of-type {\n",
       "        vertical-align: middle;\n",
       "    }\n",
       "\n",
       "    .dataframe tbody tr th {\n",
       "        vertical-align: top;\n",
       "    }\n",
       "\n",
       "    .dataframe thead th {\n",
       "        text-align: right;\n",
       "    }\n",
       "</style>\n",
       "<table border=\"1\" class=\"dataframe\">\n",
       "  <thead>\n",
       "    <tr style=\"text-align: right;\">\n",
       "      <th></th>\n",
       "      <th>t1</th>\n",
       "      <th>trgt</th>\n",
       "    </tr>\n",
       "  </thead>\n",
       "  <tbody>\n",
       "    <tr>\n",
       "      <th>2018-03-01</th>\n",
       "      <td>2018-03-02</td>\n",
       "      <td>0.027211</td>\n",
       "    </tr>\n",
       "    <tr>\n",
       "      <th>2018-03-05</th>\n",
       "      <td>2018-03-06</td>\n",
       "      <td>0.022751</td>\n",
       "    </tr>\n",
       "    <tr>\n",
       "      <th>2018-03-16</th>\n",
       "      <td>2018-03-19</td>\n",
       "      <td>0.015211</td>\n",
       "    </tr>\n",
       "    <tr>\n",
       "      <th>2018-03-23</th>\n",
       "      <td>2018-03-26</td>\n",
       "      <td>0.021475</td>\n",
       "    </tr>\n",
       "    <tr>\n",
       "      <th>2018-03-27</th>\n",
       "      <td>2018-03-28</td>\n",
       "      <td>0.020451</td>\n",
       "    </tr>\n",
       "    <tr>\n",
       "      <th>...</th>\n",
       "      <td>...</td>\n",
       "      <td>...</td>\n",
       "    </tr>\n",
       "    <tr>\n",
       "      <th>2023-01-30</th>\n",
       "      <td>2023-01-31</td>\n",
       "      <td>0.020577</td>\n",
       "    </tr>\n",
       "    <tr>\n",
       "      <th>2023-02-01</th>\n",
       "      <td>2023-02-02</td>\n",
       "      <td>0.020665</td>\n",
       "    </tr>\n",
       "    <tr>\n",
       "      <th>2023-02-03</th>\n",
       "      <td>2023-02-06</td>\n",
       "      <td>0.020464</td>\n",
       "    </tr>\n",
       "    <tr>\n",
       "      <th>2023-02-09</th>\n",
       "      <td>2023-02-10</td>\n",
       "      <td>0.020287</td>\n",
       "    </tr>\n",
       "    <tr>\n",
       "      <th>2023-02-13</th>\n",
       "      <td>2023-02-14</td>\n",
       "      <td>0.020172</td>\n",
       "    </tr>\n",
       "  </tbody>\n",
       "</table>\n",
       "<p>271 rows × 2 columns</p>\n",
       "</div>"
      ],
      "text/plain": [
       "                   t1      trgt\n",
       "2018-03-01 2018-03-02  0.027211\n",
       "2018-03-05 2018-03-06  0.022751\n",
       "2018-03-16 2018-03-19  0.015211\n",
       "2018-03-23 2018-03-26  0.021475\n",
       "2018-03-27 2018-03-28  0.020451\n",
       "...               ...       ...\n",
       "2023-01-30 2023-01-31  0.020577\n",
       "2023-02-01 2023-02-02  0.020665\n",
       "2023-02-03 2023-02-06  0.020464\n",
       "2023-02-09 2023-02-10  0.020287\n",
       "2023-02-13 2023-02-14  0.020172\n",
       "\n",
       "[271 rows x 2 columns]"
      ]
     },
     "execution_count": 9,
     "metadata": {},
     "output_type": "execute_result"
    }
   ],
   "source": [
    "events = pd.DataFrame([t1], index=['t1']).T\n",
    "events['trgt'] = vol\n",
    "events"
   ]
  },
  {
   "attachments": {},
   "cell_type": "markdown",
   "metadata": {},
   "source": [
    "### Using Triple-Barrier Labeling Method - 3.1.1(c)"
   ]
  },
  {
   "cell_type": "code",
   "execution_count": 10,
   "metadata": {},
   "outputs": [
    {
     "data": {
      "text/html": [
       "<div>\n",
       "<style scoped>\n",
       "    .dataframe tbody tr th:only-of-type {\n",
       "        vertical-align: middle;\n",
       "    }\n",
       "\n",
       "    .dataframe tbody tr th {\n",
       "        vertical-align: top;\n",
       "    }\n",
       "\n",
       "    .dataframe thead th {\n",
       "        text-align: right;\n",
       "    }\n",
       "</style>\n",
       "<table border=\"1\" class=\"dataframe\">\n",
       "  <thead>\n",
       "    <tr style=\"text-align: right;\">\n",
       "      <th></th>\n",
       "      <th>t1</th>\n",
       "      <th>sl</th>\n",
       "      <th>pt</th>\n",
       "    </tr>\n",
       "  </thead>\n",
       "  <tbody>\n",
       "    <tr>\n",
       "      <th>2018-03-01</th>\n",
       "      <td>2018-03-02</td>\n",
       "      <td>NaT</td>\n",
       "      <td>NaT</td>\n",
       "    </tr>\n",
       "    <tr>\n",
       "      <th>2018-03-05</th>\n",
       "      <td>2018-03-06</td>\n",
       "      <td>NaT</td>\n",
       "      <td>NaT</td>\n",
       "    </tr>\n",
       "    <tr>\n",
       "      <th>2018-03-16</th>\n",
       "      <td>2018-03-19</td>\n",
       "      <td>NaT</td>\n",
       "      <td>NaT</td>\n",
       "    </tr>\n",
       "    <tr>\n",
       "      <th>2018-03-23</th>\n",
       "      <td>2018-03-26</td>\n",
       "      <td>NaT</td>\n",
       "      <td>2018-03-26</td>\n",
       "    </tr>\n",
       "    <tr>\n",
       "      <th>2018-03-27</th>\n",
       "      <td>2018-03-28</td>\n",
       "      <td>NaT</td>\n",
       "      <td>NaT</td>\n",
       "    </tr>\n",
       "    <tr>\n",
       "      <th>...</th>\n",
       "      <td>...</td>\n",
       "      <td>...</td>\n",
       "      <td>...</td>\n",
       "    </tr>\n",
       "    <tr>\n",
       "      <th>2023-01-30</th>\n",
       "      <td>2023-01-31</td>\n",
       "      <td>NaT</td>\n",
       "      <td>NaT</td>\n",
       "    </tr>\n",
       "    <tr>\n",
       "      <th>2023-02-01</th>\n",
       "      <td>2023-02-02</td>\n",
       "      <td>NaT</td>\n",
       "      <td>NaT</td>\n",
       "    </tr>\n",
       "    <tr>\n",
       "      <th>2023-02-03</th>\n",
       "      <td>2023-02-06</td>\n",
       "      <td>NaT</td>\n",
       "      <td>NaT</td>\n",
       "    </tr>\n",
       "    <tr>\n",
       "      <th>2023-02-09</th>\n",
       "      <td>2023-02-10</td>\n",
       "      <td>NaT</td>\n",
       "      <td>NaT</td>\n",
       "    </tr>\n",
       "    <tr>\n",
       "      <th>2023-02-13</th>\n",
       "      <td>2023-02-14</td>\n",
       "      <td>NaT</td>\n",
       "      <td>NaT</td>\n",
       "    </tr>\n",
       "  </tbody>\n",
       "</table>\n",
       "<p>271 rows × 3 columns</p>\n",
       "</div>"
      ],
      "text/plain": [
       "                   t1  sl         pt\n",
       "2018-03-01 2018-03-02 NaT        NaT\n",
       "2018-03-05 2018-03-06 NaT        NaT\n",
       "2018-03-16 2018-03-19 NaT        NaT\n",
       "2018-03-23 2018-03-26 NaT 2018-03-26\n",
       "2018-03-27 2018-03-28 NaT        NaT\n",
       "...               ...  ..        ...\n",
       "2023-01-30 2023-01-31 NaT        NaT\n",
       "2023-02-01 2023-02-02 NaT        NaT\n",
       "2023-02-03 2023-02-06 NaT        NaT\n",
       "2023-02-09 2023-02-10 NaT        NaT\n",
       "2023-02-13 2023-02-14 NaT        NaT\n",
       "\n",
       "[271 rows x 3 columns]"
      ]
     },
     "execution_count": 10,
     "metadata": {},
     "output_type": "execute_result"
    }
   ],
   "source": [
    "def applyPtSlOnT1(close, events, ptSl):\n",
    "    # apply stop loss/profit taking, if it takes place before t1 (end of event)\n",
    "    out = events[['t1']].copy(deep=True)\n",
    "    if ptSl[0] > 0:\n",
    "        pt = ptSl[0] * events['trgt']\n",
    "    else:\n",
    "        pt = pd.Series(index=events.index) # NaNs\n",
    "    if ptSl[1] > 0:\n",
    "        sl = -ptSl[1] * events['trgt']\n",
    "    else:\n",
    "        sl = pd.Series(index=events.index) # NaNsZ\n",
    "    for loc, t1 in events['t1'].fillna(close.index[-1]).iteritems():\n",
    "        df0 = df['Close/Last'][loc:t1] # path prices\n",
    "        df0 = df0 / df['Close/Last'][loc] - 1 # path returns\n",
    "        out.loc[loc, 'sl'] = df0[df0 < sl[loc]].index.min() # earliest stop loss.\n",
    "        out.loc[loc, 'pt'] = df0[df0 > pt[loc]].index.min() # earliest profit taking.\n",
    "    return out\n",
    "\n",
    "ptSl = [1, 1]\n",
    "applyPtSlOnT1(filtered_close, events, ptSl)"
   ]
  },
  {
   "attachments": {},
   "cell_type": "markdown",
   "metadata": {},
   "source": [
    "### Get Bins - 3.1.1(d)"
   ]
  },
  {
   "cell_type": "code",
   "execution_count": 11,
   "metadata": {},
   "outputs": [
    {
     "data": {
      "text/html": [
       "<div>\n",
       "<style scoped>\n",
       "    .dataframe tbody tr th:only-of-type {\n",
       "        vertical-align: middle;\n",
       "    }\n",
       "\n",
       "    .dataframe tbody tr th {\n",
       "        vertical-align: top;\n",
       "    }\n",
       "\n",
       "    .dataframe thead th {\n",
       "        text-align: right;\n",
       "    }\n",
       "</style>\n",
       "<table border=\"1\" class=\"dataframe\">\n",
       "  <thead>\n",
       "    <tr style=\"text-align: right;\">\n",
       "      <th></th>\n",
       "      <th>ret</th>\n",
       "      <th>bin</th>\n",
       "    </tr>\n",
       "  </thead>\n",
       "  <tbody>\n",
       "    <tr>\n",
       "      <th>2018-03-01</th>\n",
       "      <td>0.015028</td>\n",
       "      <td>1.0</td>\n",
       "    </tr>\n",
       "    <tr>\n",
       "      <th>2018-03-05</th>\n",
       "      <td>0.007633</td>\n",
       "      <td>1.0</td>\n",
       "    </tr>\n",
       "    <tr>\n",
       "      <th>2018-03-16</th>\n",
       "      <td>-0.013697</td>\n",
       "      <td>-1.0</td>\n",
       "    </tr>\n",
       "    <tr>\n",
       "      <th>2018-03-23</th>\n",
       "      <td>0.006929</td>\n",
       "      <td>1.0</td>\n",
       "    </tr>\n",
       "    <tr>\n",
       "      <th>2018-03-27</th>\n",
       "      <td>-0.015579</td>\n",
       "      <td>-1.0</td>\n",
       "    </tr>\n",
       "    <tr>\n",
       "      <th>...</th>\n",
       "      <td>...</td>\n",
       "      <td>...</td>\n",
       "    </tr>\n",
       "    <tr>\n",
       "      <th>2023-01-30</th>\n",
       "      <td>0.024737</td>\n",
       "      <td>1.0</td>\n",
       "    </tr>\n",
       "    <tr>\n",
       "      <th>2023-02-01</th>\n",
       "      <td>0.003751</td>\n",
       "      <td>1.0</td>\n",
       "    </tr>\n",
       "    <tr>\n",
       "      <th>2023-02-03</th>\n",
       "      <td>0.006751</td>\n",
       "      <td>1.0</td>\n",
       "    </tr>\n",
       "    <tr>\n",
       "      <th>2023-02-09</th>\n",
       "      <td>0.013564</td>\n",
       "      <td>1.0</td>\n",
       "    </tr>\n",
       "    <tr>\n",
       "      <th>2023-02-13</th>\n",
       "      <td>0.002652</td>\n",
       "      <td>1.0</td>\n",
       "    </tr>\n",
       "  </tbody>\n",
       "</table>\n",
       "<p>271 rows × 2 columns</p>\n",
       "</div>"
      ],
      "text/plain": [
       "                 ret  bin\n",
       "2018-03-01  0.015028  1.0\n",
       "2018-03-05  0.007633  1.0\n",
       "2018-03-16 -0.013697 -1.0\n",
       "2018-03-23  0.006929  1.0\n",
       "2018-03-27 -0.015579 -1.0\n",
       "...              ...  ...\n",
       "2023-01-30  0.024737  1.0\n",
       "2023-02-01  0.003751  1.0\n",
       "2023-02-03  0.006751  1.0\n",
       "2023-02-09  0.013564  1.0\n",
       "2023-02-13  0.002652  1.0\n",
       "\n",
       "[271 rows x 2 columns]"
      ]
     },
     "execution_count": 11,
     "metadata": {},
     "output_type": "execute_result"
    }
   ],
   "source": [
    "def getBins(events_, close):\n",
    "    #1) prices aligned with events\n",
    "    px = events_.index.union(events_['t1'].values).drop_duplicates()\n",
    "    px = close.reindex(px, method='bfill')\n",
    "    #2) create out object\n",
    "    out = pd.DataFrame(index=events_.index)\n",
    "    out['ret'] = px.loc[events_['t1'].values].values / px.loc[events_.index] - 1\n",
    "    if 'side' in events_:\n",
    "        out['ret'] *= events_['side'] # meta-labeling\n",
    "    out['bin'] = np.sign(out['ret'])\n",
    "    if 'side' in events_:\n",
    "        out.loc[out['ret'] <= 0,'bin'] = 0 # meta-labeling\n",
    "    return out\n",
    "\n",
    "getBins(events, close)"
   ]
  },
  {
   "cell_type": "code",
   "execution_count": null,
   "metadata": {},
   "outputs": [],
   "source": []
  }
 ],
 "metadata": {
  "kernelspec": {
   "display_name": "base",
   "language": "python",
   "name": "python3"
  },
  "language_info": {
   "codemirror_mode": {
    "name": "ipython",
    "version": 3
   },
   "file_extension": ".py",
   "mimetype": "text/x-python",
   "name": "python",
   "nbconvert_exporter": "python",
   "pygments_lexer": "ipython3",
   "version": "3.8.8"
  },
  "orig_nbformat": 4,
  "vscode": {
   "interpreter": {
    "hash": "88279d2366fe020547cde40dd65aa0e3aa662a6ec1f3ca12d88834876c85e1a6"
   }
  }
 },
 "nbformat": 4,
 "nbformat_minor": 2
}
