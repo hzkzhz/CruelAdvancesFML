{
 "cells": [
  {
   "cell_type": "markdown",
   "source": [
    "# chap 02\n",
    "## **Bid-ask spread**\n",
    "Bid-ask spread: The cost $\\left\\{\\tilde{c}_{t}\\right\\}$ of buying or selling one unit of this virtual ETF\n",
    "is $\\tilde{c}_{t}=\\sum_{i=1}^{I}\\left|h_{i, t-1}\\right| p_{i, t} \\varphi_{i, t} \\tau_{i}$. When a unit is bought or sold, the strategy must\n",
    "charge this cost c̃, which is the equivalent to crossing the bid-ask spread of this\n",
    "virtual ETF."
   ],
   "metadata": {
    "collapsed": false,
    "pycharm": {
     "name": "#%% md\n"
    }
   }
  },
  {
   "cell_type": "markdown",
   "source": [
    "## 基于事件的数据采样\n",
    "Portfolio managers typically place a bet after some event takes place, such as a structural break (Chapter 17), an extracted signal (Chapter 18), or microstructural phenomena (Chapter 19)."
   ],
   "metadata": {
    "collapsed": false,
    "pycharm": {
     "name": "#%% md\n"
    }
   }
  },
  {
   "cell_type": "markdown",
   "source": [
    "## Pearson correlation\n",
    "$$\\rho_{A B}=\\frac{\\sigma_{A B}}{\\sigma_{A} \\sigma_{B}}$$\n",
    "Where $\\rho_{A B}$ is the correlation coefficient between A and B\n",
    "\n",
    "$\\sigma_{A B}$ is the covariance between A and B\n",
    "\n",
    "$\\sigma_{A}$ is the standard deviation of A\n",
    "\n",
    "$\\sigma_{B}$ is the standard deviation of B"
   ],
   "metadata": {
    "collapsed": false,
    "pycharm": {
     "name": "#%% md\n"
    }
   }
  },
  {
   "cell_type": "code",
   "execution_count": null,
   "outputs": [],
   "source": [],
   "metadata": {
    "collapsed": false,
    "pycharm": {
     "name": "#%%\n"
    }
   }
  }
 ],
 "metadata": {
  "kernelspec": {
   "display_name": "Python 3",
   "language": "python",
   "name": "python3"
  },
  "language_info": {
   "codemirror_mode": {
    "name": "ipython",
    "version": 2
   },
   "file_extension": ".py",
   "mimetype": "text/x-python",
   "name": "python",
   "nbconvert_exporter": "python",
   "pygments_lexer": "ipython2",
   "version": "2.7.6"
  }
 },
 "nbformat": 4,
 "nbformat_minor": 0
}