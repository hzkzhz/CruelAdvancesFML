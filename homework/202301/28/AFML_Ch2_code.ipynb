{
 "cells": [
  {
   "cell_type": "markdown",
   "id": "8b85873c",
   "metadata": {},
   "source": [
    "# Ch 2\n"
   ]
  },
  {
   "cell_type": "code",
   "execution_count": 1,
   "id": "f89b2a27",
   "metadata": {},
   "outputs": [],
   "source": [
    "import numpy as np"
   ]
  },
  {
   "cell_type": "markdown",
   "id": "ca01da62",
   "metadata": {},
   "source": [
    "## 1. PCA Weights\n",
    "\n",
    "Covariance matrix $V\\in R^{N\\times N}$ has spectral decomposition $V=W\\Lambda W^{-1}$.\n",
    "\n",
    "Given a vector of allocations $\\omega$, the portfolio risk $\\sigma^2$ is\n",
    "$$\\sigma^2 = \\omega^{-1} V \\omega = \\omega^{-1}W \\Lambda W^{-1}\\omega = \\beta^{-1}\\Lambda \\beta = (\\Lambda^{1/2}\\beta)^{-1}(\\Lambda^{1/2}\\beta)$$\n",
    "\n",
    "- $\\beta=W^{-1}\\omega$ represents the projection of $\\omega$ on the orthogonal basis\n",
    "\n",
    "$$\\sigma^2 = \\sum_{i=1}^{N}\\beta_i^2 \\Lambda_{ii}$$\n",
    "\n",
    "Risk attribute to $i$-th componnet is \n",
    "\n",
    "$$R_i = \\beta_i^2\\Lambda_{ii} / \\sigma^2 = [W^{-1}\\omega]_i^2 \\Lambda_{ii} / \\sigma^2$$.\n",
    "\n",
    "If user gives risk distribution $R$, we can compuete the $\\omega$ which this $R$.\n",
    "\n",
    "First, we have $\\beta = \\{\\pm \\sigma\\sqrt{\\frac{R_i}{\\Lambda_{ii}}}\\}_{i=1,\\cdots,N}$ represents the allocation in the orthogonal basis.\n",
    "\n",
    "Second, map to the original basis: $\\omega = W\\beta$.\n",
    "\n",
    "Finally, rescale $\\omega$ to simply re-scale $\\sigma$."
   ]
  },
  {
   "cell_type": "code",
   "execution_count": 2,
   "id": "283a86af",
   "metadata": {},
   "outputs": [],
   "source": [
    "def pcaWeights(cov, riskDist=None, riskTarget=1.):\n",
    "    \"\"\"\n",
    "    Following the riskAlloc distribution, match riskTarget\n",
    "    \"\"\"\n",
    "    \n",
    "    eigenVal, eigenVec = np.linaglg.eigh(cov) # cov must be Hermitian\n",
    "    indices = eigenVal.argsort()[::-1] # arguments for sorting eVal desc\n",
    "    eigenVal, eigenVec = eigenVal[indices], eigenVec[:, indices]\n",
    "    if riskDist is None:\n",
    "        riskDist = np.zeros(cov.shape[0])\n",
    "        riskDist[-1] = 1.\n",
    "    loads = riskTarget * (riskDist / eigenVal) ** .5 # beta = sigma * sqrt(R / Lambda)\n",
    "    weights = np.dot(eigenVec, np.reshape(loads, (-1, 1))) # w = W beta\n",
    "    # ctr = (loads / riskTarget) ** 2 * eVal # verify riskDist\n",
    "    return weights"
   ]
  },
  {
   "cell_type": "code",
   "execution_count": null,
   "id": "a68dd665",
   "metadata": {},
   "outputs": [],
   "source": []
  },
  {
   "cell_type": "code",
   "execution_count": null,
   "id": "4e864ce6",
   "metadata": {},
   "outputs": [],
   "source": []
  },
  {
   "cell_type": "code",
   "execution_count": null,
   "id": "c364597c",
   "metadata": {},
   "outputs": [],
   "source": []
  },
  {
   "cell_type": "code",
   "execution_count": null,
   "id": "1f925c31",
   "metadata": {},
   "outputs": [],
   "source": []
  }
 ],
 "metadata": {
  "kernelspec": {
   "display_name": "Python 3 (ipykernel)",
   "language": "python",
   "name": "python3"
  },
  "language_info": {
   "codemirror_mode": {
    "name": "ipython",
    "version": 3
   },
   "file_extension": ".py",
   "mimetype": "text/x-python",
   "name": "python",
   "nbconvert_exporter": "python",
   "pygments_lexer": "ipython3",
   "version": "3.9.13"
  }
 },
 "nbformat": 4,
 "nbformat_minor": 5
}
